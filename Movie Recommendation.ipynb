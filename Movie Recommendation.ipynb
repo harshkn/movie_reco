{
 "cells": [
  {
   "cell_type": "code",
   "execution_count": 76,
   "metadata": {
    "collapsed": false
   },
   "outputs": [
    {
     "name": "stdout",
     "output_type": "stream",
     "text": [
      "[[ 8  4  0  0  4]\n",
      " [ 0  0  8 10  4]\n",
      " [ 8 10  0  0  6]\n",
      " [10 10  8 10 10]\n",
      " [ 0  0  0  0  0]\n",
      " [ 2  0  4  0  6]\n",
      " [ 8  6  4  0  0]\n",
      " [ 0  0  6  4  0]\n",
      " [ 0  6  0  4 10]\n",
      " [ 0  4  6  8  8]]\n",
      "[ 5.     2.75   3.     6.     2.625  1.5    2.25   2.375  2.5    3.25 ]\n",
      "[[ 3.     3.     3.     3.    -1.    -5.    -5.    -1.   ]\n",
      " [-2.75  -2.75  -2.75  -2.75  -2.75   5.25   7.25   1.25 ]\n",
      " [-3.    -3.    -3.     5.     7.    -3.    -3.     3.   ]\n",
      " [-6.    -6.    -6.     4.     4.     2.     4.     4.   ]\n",
      " [ 4.375  4.375  4.375 -2.625 -2.625 -2.625 -2.625 -2.625]\n",
      " [-1.5   -1.5   -1.5    0.5   -1.5    2.5   -1.5    4.5  ]\n",
      " [-2.25  -2.25  -2.25   5.75   3.75   1.75  -2.25  -2.25 ]\n",
      " [ 0.625  0.625  0.625 -2.375 -2.375  3.625  1.625 -2.375]\n",
      " [-2.5   -2.5   -2.5   -2.5    3.5   -2.5    1.5    7.5  ]\n",
      " [-3.25  -3.25  -3.25  -3.25   0.75   2.75   4.75   4.75 ]]\n",
      "(10, 5)\n"
     ]
    }
   ],
   "source": [
    "from numpy import * \n",
    "import numpy as np\n",
    "\n",
    "num_movies = 10\n",
    "num_users = 5\n",
    "ratings = array([[8, 4, 0, 0, 4], [0, 0, 8, 10, 4], [8, 10, 0, 0, 6], [10, 10, 8, 10, 10], [0, 0, 0, 0, 0], [2, 0, 4, 0, 6], [8, 6, 4, 0, 0], [0, 0, 6, 4, 0], [0, 6, 0, 4, 10], [0, 4, 6, 8, 8]])\n",
    "\n",
    "# ratings = random.randint(11, size = (num_movies, num_users))\n",
    "print ratings\n",
    "print ratings_mean\n",
    "print ratings_norm\n",
    "print ratings.shape\n",
    "\n"
   ]
  },
  {
   "cell_type": "code",
   "execution_count": 77,
   "metadata": {
    "collapsed": false
   },
   "outputs": [
    {
     "name": "stdout",
     "output_type": "stream",
     "text": [
      "[[1 1 0 0 1]\n",
      " [0 0 1 1 1]\n",
      " [1 1 0 0 1]\n",
      " [1 1 1 1 1]\n",
      " [0 0 0 0 0]\n",
      " [1 0 1 0 1]\n",
      " [1 1 1 0 0]\n",
      " [0 0 1 1 0]\n",
      " [0 1 0 1 1]\n",
      " [0 1 1 1 1]]\n"
     ]
    }
   ],
   "source": [
    "did_rate = (ratings != 0) * 1\n",
    "print did_rate"
   ]
  },
  {
   "cell_type": "code",
   "execution_count": 78,
   "metadata": {
    "collapsed": false
   },
   "outputs": [
    {
     "name": "stdout",
     "output_type": "stream",
     "text": [
      "[[ 0.]\n",
      " [ 0.]\n",
      " [ 0.]\n",
      " [ 0.]\n",
      " [ 0.]\n",
      " [ 0.]\n",
      " [ 0.]\n",
      " [ 0.]\n",
      " [ 0.]\n",
      " [ 0.]]\n"
     ]
    }
   ],
   "source": [
    "h_ratings = zeros((num_movies, 1))\n",
    "\n",
    "print h_ratings"
   ]
  },
  {
   "cell_type": "code",
   "execution_count": 79,
   "metadata": {
    "collapsed": false
   },
   "outputs": [
    {
     "name": "stdout",
     "output_type": "stream",
     "text": [
      "[[ 8.]\n",
      " [ 0.]\n",
      " [ 0.]\n",
      " [ 0.]\n",
      " [ 7.]\n",
      " [ 0.]\n",
      " [ 0.]\n",
      " [ 3.]\n",
      " [ 0.]\n",
      " [ 0.]]\n"
     ]
    }
   ],
   "source": [
    "h_ratings[0] = 8 #action\n",
    "h_ratings[4] = 7 #comedy\n",
    "h_ratings[7] = 3 #disney comedy\n",
    "\n",
    "print h_ratings"
   ]
  },
  {
   "cell_type": "code",
   "execution_count": 80,
   "metadata": {
    "collapsed": false
   },
   "outputs": [
    {
     "name": "stdout",
     "output_type": "stream",
     "text": [
      "(10, 6)\n",
      "(10, 6)\n"
     ]
    }
   ],
   "source": [
    "ratings = append(h_ratings, ratings, axis = 1)\n",
    "did_rate = append(((h_ratings != 0) * 1), did_rate, axis = 1)\n",
    "\n",
    "ratings_mean = np.nanmean(ratings, axis=1).T\n",
    "ratings_norm = (ratings.T - ratings_mean).T\n",
    "# ratings = random.randint(11, size = (num_movies, num_users))\n",
    "print ratings.shape\n",
    "# print ratings_mean\n",
    "# print ratings_norm\n",
    "print did_rate.shape\n"
   ]
  },
  {
   "cell_type": "code",
   "execution_count": 81,
   "metadata": {
    "collapsed": true
   },
   "outputs": [],
   "source": [
    "num_users = ratings.shape[1]\n",
    "num_features = 3"
   ]
  },
  {
   "cell_type": "code",
   "execution_count": 82,
   "metadata": {
    "collapsed": false
   },
   "outputs": [
    {
     "name": "stdout",
     "output_type": "stream",
     "text": [
      "[[ 0.12330987  0.43795216  0.54186158]\n",
      " [-0.57431133  1.17152212  1.62330788]\n",
      " [ 1.86699544 -1.39732947  0.1088634 ]\n",
      " [ 0.6073384   0.9723796   0.77424076]\n",
      " [ 0.12545146 -0.63454091  0.33647248]\n",
      " [-0.95630754 -0.00583809 -2.01144224]\n",
      " [ 0.17492657 -0.46688015 -0.99929244]\n",
      " [ 1.43256433 -0.1779201   0.44897165]\n",
      " [-0.19414448  0.5669478  -0.33792468]\n",
      " [ 0.18370966  0.26128612  0.34549596]]\n",
      "[[-0.65193915  0.06587106 -2.12215142]\n",
      " [-0.00766119  0.00359572  0.14351648]\n",
      " [ 0.01356211 -1.08425635 -0.64348479]\n",
      " [-0.80881325  1.32544083 -0.98841668]\n",
      " [ 0.11810692  0.23406089 -0.6585429 ]\n",
      " [-0.03402813 -0.07235331 -0.1597926 ]]\n"
     ]
    }
   ],
   "source": [
    "#Initialise the parameters for regression\n",
    "movie_features = random.randn( num_movies, num_features )\n",
    "user_prefs = random.randn( num_users, num_features )\n",
    "initial_X_and_theta = r_[movie_features.T.flatten(), user_prefs.T.flatten()]\n",
    "\n",
    "print movie_features \n",
    "print user_prefs \n"
   ]
  },
  {
   "cell_type": "code",
   "execution_count": 83,
   "metadata": {
    "collapsed": false
   },
   "outputs": [
    {
     "name": "stdout",
     "output_type": "stream",
     "text": [
      "[ 0.12330987 -0.57431133  1.86699544  0.6073384   0.12545146 -0.95630754\n",
      "  0.17492657  1.43256433 -0.19414448  0.18370966  0.43795216  1.17152212\n",
      " -1.39732947  0.9723796  -0.63454091 -0.00583809 -0.46688015 -0.1779201\n",
      "  0.5669478   0.26128612  0.54186158  1.62330788  0.1088634   0.77424076\n",
      "  0.33647248 -2.01144224 -0.99929244  0.44897165 -0.33792468  0.34549596\n",
      " -0.65193915 -0.00766119  0.01356211 -0.80881325  0.11810692 -0.03402813\n",
      "  0.06587106  0.00359572 -1.08425635  1.32544083  0.23406089 -0.07235331\n",
      " -2.12215142  0.14351648 -0.64348479 -0.98841668 -0.6585429  -0.1597926 ]\n"
     ]
    }
   ],
   "source": [
    "print initial_X_and_theta\n"
   ]
  },
  {
   "cell_type": "code",
   "execution_count": 84,
   "metadata": {
    "collapsed": false
   },
   "outputs": [
    {
     "data": {
      "text/plain": [
       "(48,)"
      ]
     },
     "execution_count": 84,
     "metadata": {},
     "output_type": "execute_result"
    }
   ],
   "source": [
    "initial_X_and_theta.shape\n"
   ]
  },
  {
   "cell_type": "code",
   "execution_count": 85,
   "metadata": {
    "collapsed": true
   },
   "outputs": [],
   "source": [
    "def unroll_params(X_and_theta, num_users, num_movies, num_features):\n",
    "    first_30 = X_and_theta[:num_movies * num_features]\n",
    "    X = first_30.reshape((num_features, num_movies)).T\n",
    "    last18 = X_and_theta[num_movies * num_features:]\n",
    "    theta = last18.reshape(num_features, num_users).T\n",
    "    return X, theta\n"
   ]
  },
  {
   "cell_type": "code",
   "execution_count": 91,
   "metadata": {
    "collapsed": true
   },
   "outputs": [],
   "source": [
    "def calculate_gradient(X_and_theta, ratings, did_rate, num_users, num_movies, num_features, reg_param):\n",
    "    X, theta = unroll_params(X_and_theta, num_users, num_movies, num_features)\n",
    "    difference = X.dot(theta.T) * did_rate - ratings\n",
    "    X_grad = difference.dot(theta) + reg_param * X\n",
    "    theta_grad = difference.T.dot(X) + reg_param * theta\n",
    "    \n",
    "    return r_[X_grad.T.flatten(), theta_grad.T.flatten()]\n",
    "\n"
   ]
  },
  {
   "cell_type": "code",
   "execution_count": 92,
   "metadata": {
    "collapsed": true
   },
   "outputs": [],
   "source": [
    "def calculate_cost(X_and_theta, ratings, did_rate, num_users, num_movies, num_features, reg_param):\n",
    "\n",
    "    cost = sum( (X.dot( theta.T ) * did_rate - ratings) ** 2 ) / 2\n",
    "    regularization = (reg_param / 2) * (sum( theta**2 ) + sum(X**2))\n",
    "    return cost + regularization"
   ]
  },
  {
   "cell_type": "code",
   "execution_count": 93,
   "metadata": {
    "collapsed": false
   },
   "outputs": [
    {
     "name": "stdout",
     "output_type": "stream",
     "text": [
      "(10, 6)\n",
      "(10, 6)\n",
      "(10, 3)\n",
      "(6, 3)\n",
      "Warning: Desired error not necessarily achieved due to precision loss.\n",
      "         Current function value: 1339.957880\n",
      "         Iterations: 0\n",
      "         Function evaluations: 31\n",
      "         Gradient evaluations: 19\n",
      "(10, 6)\n"
     ]
    }
   ],
   "source": [
    "print did_rate.shape\n",
    "print ratings.shape\n",
    "print X.shape\n",
    "print theta.shape\n",
    "\n",
    "# X,theta = unroll_params(initial_X_and_theta, num_users, num_movies, num_features)\n",
    "# difference = X.dot(theta.T) * did_rate - ratings\n",
    "# # r_ = calculate_gradient(initial_X_and_theta, ratings, did_rate, num_users, num_movies, num_features, reg_param)\n",
    "# # calculate_cost(initial_X_and_theta, ratings, did_rate, num_users, num_movies, num_features, 30)\n",
    "\n",
    "from scipy import optimize\n",
    "\n",
    "reg_param = 30 \n",
    "\n",
    "minimized_cost_and_optimal_params = optimize.fmin_cg(calculate_cost, fprime=calculate_gradient, x0=initial_X_and_theta, args=(ratings, did_rate, num_users, num_movies, num_features, reg_param), maxiter=100, disp=True, full_output=True ) \n",
    "# print X\n",
    "# print X.shape\n",
    "\n",
    "print did_rate.shape"
   ]
  },
  {
   "cell_type": "code",
   "execution_count": 94,
   "metadata": {
    "collapsed": false
   },
   "outputs": [
    {
     "name": "stdout",
     "output_type": "stream",
     "text": [
      "[[-0.65193915  0.06587106 -2.12215142]\n",
      " [-0.00766119  0.00359572  0.14351648]\n",
      " [ 0.01356211 -1.08425635 -0.64348479]\n",
      " [-0.80881325  1.32544083 -0.98841668]\n",
      " [ 0.11810692  0.23406089 -0.6585429 ]\n",
      " [-0.03402813 -0.07235331 -0.1597926 ]]\n"
     ]
    }
   ],
   "source": [
    "# cost, optimal_movie_features_and_user_prefs = minimized_cost_and_optimal_params[1], minimized_cost_and_optimal_params[0]\n",
    "print theta"
   ]
  },
  {
   "cell_type": "code",
   "execution_count": 95,
   "metadata": {
    "collapsed": false
   },
   "outputs": [
    {
     "name": "stdout",
     "output_type": "stream",
     "text": [
      "(6, 3)\n"
     ]
    }
   ],
   "source": [
    "print theta.shape"
   ]
  },
  {
   "cell_type": "code",
   "execution_count": 98,
   "metadata": {
    "collapsed": true
   },
   "outputs": [],
   "source": [
    "cost, optimal_movie_features_and_user_prefs = minimized_cost_and_optimal_params[1], minimized_cost_and_optimal_params[0]\n"
   ]
  },
  {
   "cell_type": "code",
   "execution_count": 99,
   "metadata": {
    "collapsed": true
   },
   "outputs": [],
   "source": [
    "movie_features, user_prefs = unroll_params(optimal_movie_features_and_user_prefs, num_users, num_movies, num_features)\n"
   ]
  },
  {
   "cell_type": "code",
   "execution_count": 100,
   "metadata": {
    "collapsed": false
   },
   "outputs": [
    {
     "name": "stdout",
     "output_type": "stream",
     "text": [
      "[[ 0.12330987  0.43795216  0.54186158]\n",
      " [-0.57431133  1.17152212  1.62330788]\n",
      " [ 1.86699544 -1.39732947  0.1088634 ]\n",
      " [ 0.6073384   0.9723796   0.77424076]\n",
      " [ 0.12545146 -0.63454091  0.33647248]\n",
      " [-0.95630754 -0.00583809 -2.01144224]\n",
      " [ 0.17492657 -0.46688015 -0.99929244]\n",
      " [ 1.43256433 -0.1779201   0.44897165]\n",
      " [-0.19414448  0.5669478  -0.33792468]\n",
      " [ 0.18370966  0.26128612  0.34549596]]\n",
      "[[-0.65193915  0.06587106 -2.12215142]\n",
      " [-0.00766119  0.00359572  0.14351648]\n",
      " [ 0.01356211 -1.08425635 -0.64348479]\n",
      " [-0.80881325  1.32544083 -0.98841668]\n",
      " [ 0.11810692  0.23406089 -0.6585429 ]\n",
      " [-0.03402813 -0.07235331 -0.1597926 ]]\n",
      "[[ -1.20145448e+00   7.83961221e-02  -8.21859750e-01  -5.48400085e-02\n",
      "   -2.39767874e-01  -1.22468761e-01]\n",
      " [ -2.99331967e+00   2.41583811e-01  -2.32259310e+00   4.12789291e-01\n",
      "   -8.62640503e-01  -3.24613339e-01]\n",
      " [ -1.54023561e+00  -3.70411226e-03   1.47033180e+00  -3.46973057e+00\n",
      "   -1.78246321e-01   2.01754732e-02]\n",
      " [ -1.97495211e+00   1.09959782e-01  -1.54428412e+00   3.23358126e-02\n",
      "   -2.10543846e-01  -2.14739414e-01]\n",
      " [ -8.37630152e-01   4.50466097e-02   4.73191479e-01  -1.27508825e+00\n",
      "   -3.55286090e-01  -1.21235561e-02]\n",
      " [  4.89165477e+00  -2.81369661e-01   1.28769293e+00   2.75387922e+00\n",
      "    1.21030800e+00   3.54377346e-01]\n",
      " [  1.97585449e+00  -1.46433853e-01   1.15161963e+00   2.27412365e-01\n",
      "    5.69458592e-01   1.87507432e-01]\n",
      " [ -1.89845038e+00   5.28199394e-02  -7.65668356e-02  -1.83827065e+00\n",
      "   -1.68115470e-01  -1.07616729e-01]\n",
      " [  8.81043183e-01  -4.49718004e-02  -3.99900373e-01   1.24249279e+00\n",
      "    3.32308402e-01   1.95836875e-02]\n",
      " [ -8.35751073e-01   4.91164434e-02  -5.03131036e-01  -1.43761494e-01\n",
      "   -1.44669669e-01  -8.03639089e-02]]\n",
      "[[  2.79854552e+00   2.46521219e+00   2.79854552e+00   6.79854552e+00\n",
      "   -3.47878119e-02   7.98545521e-01   1.79854552e+00   9.65212188e-01\n",
      "    2.13187885e+00   3.13187885e+00]\n",
      " [  1.00668033e+00   6.73347000e-01   1.00668033e+00   5.00668033e+00\n",
      "   -1.82665300e+00  -9.93319667e-01   6.68033325e-03  -8.26653000e-01\n",
      "    3.40013667e-01   1.34001367e+00]\n",
      " [  2.45976439e+00   2.12643106e+00   2.45976439e+00   6.45976439e+00\n",
      "   -3.73568940e-01   4.59764394e-01   1.45976439e+00   6.26431060e-01\n",
      "    1.79309773e+00   2.79309773e+00]\n",
      " [  2.02504789e+00   1.69171455e+00   2.02504789e+00   6.02504789e+00\n",
      "   -8.08285448e-01   2.50478853e-02   1.02504789e+00   1.91714552e-01\n",
      "    1.35838122e+00   2.35838122e+00]\n",
      " [  3.16236985e+00   2.82903651e+00   3.16236985e+00   7.16236985e+00\n",
      "    3.29036515e-01   1.16236985e+00   2.16236985e+00   1.32903651e+00\n",
      "    2.49570318e+00   3.49570318e+00]\n",
      " [  8.89165477e+00   8.55832144e+00   8.89165477e+00   1.28916548e+01\n",
      "    6.05832144e+00   6.89165477e+00   7.89165477e+00   7.05832144e+00\n",
      "    8.22498811e+00   9.22498811e+00]\n",
      " [  5.97585449e+00   5.64252116e+00   5.97585449e+00   9.97585449e+00\n",
      "    3.14252116e+00   3.97585449e+00   4.97585449e+00   4.14252116e+00\n",
      "    5.30918783e+00   6.30918783e+00]\n",
      " [  2.10154962e+00   1.76821629e+00   2.10154962e+00   6.10154962e+00\n",
      "   -7.31783715e-01   1.01549619e-01   1.10154962e+00   2.68216285e-01\n",
      "    1.43488295e+00   2.43488295e+00]\n",
      " [  4.88104318e+00   4.54770985e+00   4.88104318e+00   8.88104318e+00\n",
      "    2.04770985e+00   2.88104318e+00   3.88104318e+00   3.04770985e+00\n",
      "    4.21437652e+00   5.21437652e+00]\n",
      " [  3.16424893e+00   2.83091559e+00   3.16424893e+00   7.16424893e+00\n",
      "    3.30915593e-01   1.16424893e+00   2.16424893e+00   1.33091559e+00\n",
      "    2.49758226e+00   3.49758226e+00]]\n",
      "[[ 8.]\n",
      " [ 0.]\n",
      " [ 0.]\n",
      " [ 0.]\n",
      " [ 7.]\n",
      " [ 0.]\n",
      " [ 0.]\n",
      " [ 3.]\n",
      " [ 0.]\n",
      " [ 0.]]\n"
     ]
    }
   ],
   "source": [
    "print movie_features\n",
    "print user_prefs\n",
    "all_predictions = movie_features.dot( user_prefs.T )\n",
    "print all_predictions\n",
    "predictions_for_harsha = all_predictions[:, 0:1] + ratings_mean\n",
    "print predictions_for_harsha\n",
    "print h_ratings\n"
   ]
  },
  {
   "cell_type": "code",
   "execution_count": null,
   "metadata": {
    "collapsed": true
   },
   "outputs": [],
   "source": []
  }
 ],
 "metadata": {
  "kernelspec": {
   "display_name": "Python 2",
   "language": "python",
   "name": "python2"
  },
  "language_info": {
   "codemirror_mode": {
    "name": "ipython",
    "version": 2
   },
   "file_extension": ".py",
   "mimetype": "text/x-python",
   "name": "python",
   "nbconvert_exporter": "python",
   "pygments_lexer": "ipython2",
   "version": "2.7.11"
  }
 },
 "nbformat": 4,
 "nbformat_minor": 0
}
